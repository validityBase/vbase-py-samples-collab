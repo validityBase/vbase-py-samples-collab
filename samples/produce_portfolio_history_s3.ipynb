{
 "cells": [
  {
   "cell_type": "markdown",
   "metadata": {},
   "source": [
    "# Strategy Stamper Demo"
   ]
  },
  {
   "cell_type": "markdown",
   "metadata": {},
   "source": [
    "\n",
    "This sample creates a tamper-proof portfolio track record.<br>\n"
   ]
  },
  {
   "cell_type": "markdown",
   "metadata": {},
   "source": [
    "## Imports"
   ]
  },
  {
   "cell_type": "code",
   "execution_count": null,
   "metadata": {
    "jupyter": {
     "source_hidden": true
    }
   },
   "outputs": [],
   "source": [
    "from datetime import datetime\n",
    "import json\n",
    "import os\n",
    "import pprint\n",
    "import random\n",
    "from dotenv import load_dotenv\n",
    "from vbase import (\n",
    "    VBaseClient,\n",
    "    ForwarderCommitmentService,\n",
    "    VBaseDataset,\n",
    "    VBaseJsonObject,\n",
    ")\n",
    "from aws_utils import (\n",
    "    create_s3_client_from_env,\n",
    "    write_s3_object,\n",
    ")\n",
    "\n",
    "#  Install vBase requirements.\n",
    "!pip install git+https://github.com/validityBase/vbase-py.git\n",
    "!wget --no-clobber https://raw.githubusercontent.com/validityBase/vbase-py-samples-collab/main/samples/collab_utils.py"
   ]
  },
  {
   "cell_type": "markdown",
   "metadata": {},
   "source": [
    "## Configuration"
   ]
  },
  {
   "cell_type": "markdown",
   "metadata": {},
   "source": [
    "The trader's sovereign cryptographic identity."
   ]
  },
  {
   "cell_type": "code",
   "execution_count": null,
   "metadata": {},
   "outputs": [],
   "source": [
    "PK = \"0xabfc6c981e4e9f1f26175bc40aef73248d467617309c5e04e83da34171999076\""
   ]
  },
  {
   "cell_type": "markdown",
   "metadata": {},
   "source": [
    "The strategy name."
   ]
  },
  {
   "cell_type": "code",
   "execution_count": null,
   "metadata": {},
   "outputs": [],
   "source": [
    "STRATEGY_NAME = \"strategy\" + datetime.now().strftime(\"%Y%m%d%H%M%S\")"
   ]
  },
  {
   "cell_type": "markdown",
   "metadata": {},
   "source": [
    "Additional configuration."
   ]
  },
  {
   "cell_type": "code",
   "execution_count": null,
   "metadata": {
    "jupyter": {
     "source_hidden": true
    }
   },
   "outputs": [],
   "source": [
    "BUCKET_NAME = \"vbase-test\"\n",
    "N_TIME_PERIODS = 10\n",
    "FOLDER_NAME = \"samples/portfolio_history/\"\n",
    "STRATEGY_FOLDER_NAME = FOLDER_NAME + STRATEGY_NAME\n",
    "ADDRESS = \"0xA401F59d7190E4448Eb60691E3bc78f1Ef03e88C\""
   ]
  },
  {
   "cell_type": "markdown",
   "metadata": {},
   "source": [
    "## Setup"
   ]
  },
  {
   "cell_type": "markdown",
   "metadata": {},
   "source": [
    "Load the information necessary to call vBase APIs."
   ]
  },
  {
   "cell_type": "code",
   "execution_count": null,
   "metadata": {},
   "outputs": [],
   "source": [
    "# Initialize the environment using Google Collab secrets, if possible.\n",
    "try_add_user_secrets_to_env([\n",
    "    \"VBASE_API_KEY\",\n",
    "    \"VBASE_FORWARDER_URL\",\n",
    "    \"VBASE_COMMITMENT_SERVICE_PRIVATE_KEY\",\n",
    "    \"AWS_ACCESS_KEY_ID\",\n",
    "    \"AWS_SECRET_ACCESS_KEY\"\n",
    "])\n",
    "load_dotenv(verbose=True, override=True)\n",
    "forwarder_url = os.environ.get(\"VBASE_FORWARDER_URL\")\n",
    "api_key = os.environ.get(\"VBASE_API_KEY\")"
   ]
  },
  {
   "cell_type": "markdown",
   "metadata": {},
   "source": [
    "Connect to AWS."
   ]
  },
  {
   "cell_type": "code",
   "execution_count": null,
   "metadata": {},
   "outputs": [],
   "source": [
    "boto_client = create_s3_client_from_env()"
   ]
  },
  {
   "cell_type": "markdown",
   "metadata": {},
   "source": [
    "Connect to vBase."
   ]
  },
  {
   "cell_type": "code",
   "execution_count": null,
   "metadata": {},
   "outputs": [],
   "source": [
    "vbc = VBaseClient(\n",
    "    ForwarderCommitmentService(\n",
    "        forwarder_url,\n",
    "        api_key,\n",
    "        PK,\n",
    "    )\n",
    ")"
   ]
  },
  {
   "cell_type": "markdown",
   "metadata": {},
   "source": [
    "## Create and Stamp Portfolios"
   ]
  },
  {
   "cell_type": "markdown",
   "metadata": {},
   "source": [
    "Create the vBase dataset object for the strategy."
   ]
  },
  {
   "cell_type": "code",
   "execution_count": null,
   "metadata": {},
   "outputs": [],
   "source": [
    "ds_strategy = VBaseDataset(vbc, STRATEGY_NAME, VBaseJsonObject)\n",
    "print(f\"Created dataset: {pprint.pformat(ds_strategy.to_dict())}\")"
   ]
  },
  {
   "cell_type": "markdown",
   "metadata": {},
   "source": [
    "Create sample portfolios."
   ]
  },
  {
   "cell_type": "code",
   "execution_count": null,
   "metadata": {},
   "outputs": [],
   "source": [
    "random.seed(1234)\n",
    "for i_trade in range(N_TIME_PERIODS):\n",
    "    # Create a random portfolio in [-1, 1].\n",
    "    # We can use any identifier for which returns can be verified.\n",
    "    port = json.dumps(\n",
    "        {\n",
    "            \"SPY\": round(random.random() * 2 - 1, 2),\n",
    "            \"TSLA\": round(random.random() * 2 - 1, 2),\n",
    "            \"BTCUSD\": round(random.random() * 2 - 1, 2),\n",
    "            \"JPM:CDS:5\": round(random.random() * 2 - 1, 2),\n",
    "        }\n",
    "    )\n",
    "    print(f\"Portfolio: {pprint.pformat(port)}\")\n",
    "\n",
    "    # Add the portfolio to the vBase dataset object.\n",
    "    receipt = ds_strategy.add_record(port)\n",
    "    print(f\"Stamp receipt: {pprint.pformat(receipt)}\")\n",
    "\n",
    "    # Save the portfolio.\n",
    "    write_s3_object(\n",
    "        boto_client,\n",
    "        BUCKET_NAME,\n",
    "        STRATEGY_FOLDER_NAME,\n",
    "        f\"portfolio_{i_trade}.json\",\n",
    "        port,\n",
    "    )"
   ]
  },
  {
   "cell_type": "markdown",
   "metadata": {},
   "source": [
    "Display the shareable portfolio history URL."
   ]
  },
  {
   "cell_type": "code",
   "execution_count": null,
   "metadata": {
    "jupyter": {
     "source_hidden": true
    }
   },
   "outputs": [],
   "source": [
    "print(\n",
    "    \"Data saved to: \"\n",
    "    \"http://vbase-test.s3-website-us-east-1.amazonaws.com/?prefix=\"\n",
    "    f\"{STRATEGY_FOLDER_NAME}\"\n",
    ")\n",
    "print(f\"Strategy info: name = {ds_strategy.name}, owner = {ds_strategy.owner}\")"
   ]
  },
  {
   "cell_type": "markdown",
   "metadata": {},
   "source": [
    "## Summary"
   ]
  },
  {
   "cell_type": "markdown",
   "metadata": {},
   "source": [
    "\n",
    "Process<br>\n",
    "* We used only a private key and portfolio weights as inputs.<br>\n",
    "* We created a tamper-proof history of portfolio records.<br>\n",
    "* Portfolio data was not shared with vBase or any other third party.<br>\n"
   ]
  },
  {
   "cell_type": "markdown",
   "metadata": {},
   "source": [
    "\n",
    "Key Implications<br>\n",
    "* We can produce an easily verifiable track record.<br>\n",
    "* We can selectively share the portfolio history.<br>\n",
    "* The track record and all analytics can be independently calculated and verified forever.<br>\n"
   ]
  }
 ],
 "metadata": {
  "kernelspec": {
   "display_name": "Python 3 (ipykernel)",
   "language": "python",
   "name": "python3"
  },
  "language_info": {
   "codemirror_mode": {
    "name": "ipython",
    "version": 3
   },
   "file_extension": ".py",
   "mimetype": "text/x-python",
   "name": "python",
   "nbconvert_exporter": "python",
   "pygments_lexer": "ipython3",
   "version": "3.11.9"
  }
 },
 "nbformat": 4,
 "nbformat_minor": 4
}
