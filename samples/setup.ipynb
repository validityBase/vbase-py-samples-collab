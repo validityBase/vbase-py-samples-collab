{
 "cells": [
  {
   "cell_type": "markdown",
   "metadata": {
    "editable": true,
    "id": "9khUiXA8W660",
    "slideshow": {
     "slide_type": ""
    },
    "tags": []
   },
   "source": [
    "# setup"
   ]
  },
  {
   "cell_type": "markdown",
   "metadata": {
    "id": "tP0_XtxZW02I"
   },
   "source": [
    "This notebok helps you set up your Google collab environment for use with vBase."
   ]
  },
  {
   "cell_type": "code",
   "execution_count": null,
   "metadata": {
    "cellView": "form",
    "executionInfo": {
     "elapsed": 617,
     "status": "ok",
     "timestamp": 1710310401949,
     "user": {
      "displayName": "Greg Kapoustin",
      "userId": "13086777211889112117"
     },
     "user_tz": 420
    },
    "id": "jHR1KOvjXHdN"
   },
   "outputs": [],
   "source": [
    "%%capture\n",
    "# Install required packages.\n",
    "!pip secrets\n",
    "\n",
    "import secrets"
   ]
  },
  {
   "cell_type": "markdown",
   "metadata": {
    "id": "0aogPEShZGdb"
   },
   "source": [
    "## Set up the VBASE_FORWARDER_URL Secret\n",
    "\n",
    "Add the secret `VBASE_FORWARDER_URL = \"https://api.vbase.com/forwarder/\"` to use the production vBase services.\n",
    "\n",
    "Add the secret `VBASE_FORWARDER_URL = \"https://api.vbase.com/forwarder-test/\"` to use the production vBase API server with the test commitment service. The test commitment service provides additional hooks to simplify testing."
   ]
  },
  {
   "cell_type": "markdown",
   "metadata": {
    "id": "0enn4z56ZXin"
   },
   "source": [
    "## Set up the VBASE_API_KEY Secret\n",
    "\n",
    "Add the secret `VBASE_API_KEY = \"YOUR_API_KEY\"` for the vBase API key you received."
   ]
  },
  {
   "cell_type": "markdown",
   "metadata": {
    "id": "AQPQjteFZjqp"
   },
   "source": [
    "## (Optionally) Set up the VBASE_COMMITMENT_SERVICE_PRIVATE_KEY Secret\n",
    "\n",
    "Add the secret for the following VBASE_COMMITMENT_SERVICE_PRIVATE_KEY if you have not yet configured it through other means.\n",
    "\n",
    "The private key identifies you as the author of vBase objects and controls your operations -- it must be kept secret. vBase will never request this value."
   ]
  },
  {
   "cell_type": "code",
   "execution_count": null,
   "metadata": {
    "cellView": "form",
    "colab": {
     "base_uri": "https://localhost:8080/"
    },
    "executionInfo": {
     "elapsed": 5,
     "status": "ok",
     "timestamp": 1710310401949,
     "user": {
      "displayName": "Greg Kapoustin",
      "userId": "13086777211889112117"
     },
     "user_tz": 420
    },
    "id": "2FVJ8CiIZHRT",
    "outputId": "52612445-18d7-42ef-f3e8-e3549d6c21be"
   },
   "outputs": [],
   "source": [
    "private_key = \"0x\" + secrets.token_hex(32)\n",
    "print(f'VBASE_COMMITMENT_SERVICE_PRIVATE_KEY = \"{private_key}\"')"
   ]
  }
 ],
 "metadata": {
  "colab": {
   "authorship_tag": "ABX9TyMSA56uOnHeE/E5RnMnUGIt",
   "provenance": []
  },
  "kernelspec": {
   "display_name": "Python 3 (ipykernel)",
   "language": "python",
   "name": "python3"
  },
  "language_info": {
   "codemirror_mode": {
    "name": "ipython",
    "version": 3
   },
   "file_extension": ".py",
   "mimetype": "text/x-python",
   "name": "python",
   "nbconvert_exporter": "python",
   "pygments_lexer": "ipython3",
   "version": "3.8.18"
  }
 },
 "nbformat": 4,
 "nbformat_minor": 4
}
