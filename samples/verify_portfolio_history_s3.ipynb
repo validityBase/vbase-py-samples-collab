{
 "cells": [
  {
   "cell_type": "markdown",
   "metadata": {},
   "source": [
    "# Track Record Verification Demo"
   ]
  },
  {
   "cell_type": "markdown",
   "metadata": {},
   "source": [
    "\n",
    "This sample verifies a tamper-proof portfolio track record.<br>\n"
   ]
  },
  {
   "cell_type": "markdown",
   "metadata": {},
   "source": [
    "## Imports"
   ]
  },
  {
   "cell_type": "code",
   "execution_count": null,
   "metadata": {
    "jupyter": {
     "source_hidden": true
    }
   },
   "outputs": [],
   "source": [
    "#  Install vBase requirements.\n",
    "!pip install git+https://github.com/validityBase/vbase-py.git\n",
    "!pip install boto3\n",
    "!wget --no-clobber https://raw.githubusercontent.com/validityBase/vbase-py-samples-collab/main/samples/collab_utils.py\n",
    "!wget --no-clobber https://raw.githubusercontent.com/validityBase/vbase-py-samples/main/samples/aws_utils.py\n",
    "\n",
    "import pprint\n",
    "import random\n",
    "import sys\n",
    "from dotenv import load_dotenv\n",
    "import matplotlib.pyplot as plt\n",
    "import numpy as np\n",
    "import pandas as pd\n",
    "from vbase import (\n",
    "    VBaseClient,\n",
    "    VBaseDataset,\n",
    ")\n",
    "from collab_utils import try_add_user_secrets_to_env\n",
    "from aws_utils import (\n",
    "    create_s3_client_from_env,\n",
    "    init_vbase_dataset_from_s3_objects,\n",
    ")"
   ]
  },
  {
   "cell_type": "markdown",
   "metadata": {},
   "source": [
    "## Configuration"
   ]
  },
  {
   "cell_type": "markdown",
   "metadata": {},
   "source": [
    "The strategy owner address."
   ]
  },
  {
   "cell_type": "code",
   "execution_count": null,
   "metadata": {},
   "outputs": [],
   "source": [
    "STRATEGY_OWNER = \"0xA401F59d7190E4448Eb60691E3bc78f1Ef03e88C\""
   ]
  },
  {
   "cell_type": "markdown",
   "metadata": {},
   "source": [
    "The strategy name."
   ]
  },
  {
   "cell_type": "code",
   "execution_count": null,
   "metadata": {},
   "outputs": [],
   "source": [
    "STRATEGY_NAME = \"strategy20240707215214\""
   ]
  },
  {
   "cell_type": "markdown",
   "metadata": {},
   "source": [
    "Additional configuration."
   ]
  },
  {
   "cell_type": "code",
   "execution_count": null,
   "metadata": {
    "jupyter": {
     "source_hidden": true
    }
   },
   "outputs": [],
   "source": [
    "BUCKET_NAME = \"vbase-test\"\n",
    "FOLDER_NAME = \"samples/portfolio_history/\"\n",
    "STRATEGY_FOLDER_NAME = FOLDER_NAME + STRATEGY_NAME"
   ]
  },
  {
   "cell_type": "markdown",
   "metadata": {},
   "source": [
    "## Setup"
   ]
  },
  {
   "cell_type": "markdown",
   "metadata": {},
   "source": [
    "Load the information necessary to call vBase APIs."
   ]
  },
  {
   "cell_type": "code",
   "execution_count": null,
   "metadata": {},
   "outputs": [],
   "source": [
    "# Initialize the environment using Google Collab secrets, if possible.\n",
    "try_add_user_secrets_to_env([\n",
    "    \"VBASE_API_KEY\",\n",
    "    \"VBASE_FORWARDER_URL\",\n",
    "    \"VBASE_COMMITMENT_SERVICE_PRIVATE_KEY\",\n",
    "    \"AWS_ACCESS_KEY_ID\",\n",
    "    \"AWS_SECRET_ACCESS_KEY\"\n",
    "])\n",
    "load_dotenv(verbose=True, override=True)"
   ]
  },
  {
   "cell_type": "markdown",
   "metadata": {},
   "source": [
    "Connect to AWS."
   ]
  },
  {
   "cell_type": "code",
   "execution_count": null,
   "metadata": {},
   "outputs": [],
   "source": [
    "boto_client = create_s3_client_from_env()"
   ]
  },
  {
   "cell_type": "markdown",
   "metadata": {},
   "source": [
    "Connect to vBase."
   ]
  },
  {
   "cell_type": "code",
   "execution_count": null,
   "metadata": {},
   "outputs": [],
   "source": [
    "vbc = VBaseClient.create_instance_from_env()"
   ]
  },
  {
   "cell_type": "markdown",
   "metadata": {},
   "source": [
    "Initialize the strategy dataset object."
   ]
  },
  {
   "cell_type": "code",
   "execution_count": null,
   "metadata": {},
   "outputs": [],
   "source": [
    "ds_strategy = VBaseDataset(\n",
    "    vbc,\n",
    "    init_dict={\n",
    "        \"name\": STRATEGY_NAME,\n",
    "        \"owner\": STRATEGY_OWNER,\n",
    "        \"record_type_name\": \"VBaseJsonObject\",\n",
    "        \"records\": [],\n",
    "    },\n",
    ")"
   ]
  },
  {
   "cell_type": "markdown",
   "metadata": {},
   "source": [
    "Additional Setup."
   ]
  },
  {
   "cell_type": "code",
   "execution_count": null,
   "metadata": {
    "jupyter": {
     "source_hidden": true
    }
   },
   "outputs": [],
   "source": [
    "if \"ipykernel\" not in sys.modules and \"IPython\" in sys.modules:\n",
    "    # Configure plot backend if running in interactive mode.\n",
    "    # The following line creates overactive warning.\n",
    "    # We want the import within the clause.\n",
    "    # pylint: disable=ungrouped-imports\n",
    "    import matplotlib\n",
    "\n",
    "    # Set plot backend to WebAgg.\n",
    "    # This backend provides interactive web charts.\n",
    "    matplotlib.use(\"WebAgg\")"
   ]
  },
  {
   "cell_type": "markdown",
   "metadata": {},
   "source": [
    "## Validate the Portfolio History"
   ]
  },
  {
   "cell_type": "markdown",
   "metadata": {},
   "source": [
    "Load the portfolio records."
   ]
  },
  {
   "cell_type": "code",
   "execution_count": null,
   "metadata": {},
   "outputs": [],
   "source": [
    "ds_strategy = init_vbase_dataset_from_s3_objects(\n",
    "    ds_strategy, boto_client, BUCKET_NAME, STRATEGY_FOLDER_NAME\n",
    ")"
   ]
  },
  {
   "cell_type": "markdown",
   "metadata": {},
   "source": [
    "Restore timestamps using the blockchain stamps."
   ]
  },
  {
   "cell_type": "code",
   "execution_count": null,
   "metadata": {},
   "outputs": [],
   "source": [
    "assert ds_strategy.try_restore_timestamps_from_index()"
   ]
  },
  {
   "cell_type": "markdown",
   "metadata": {},
   "source": [
    "Verify the portfolio records."
   ]
  },
  {
   "cell_type": "code",
   "execution_count": null,
   "metadata": {},
   "outputs": [],
   "source": [
    "assert ds_strategy.verify_commitments()"
   ]
  },
  {
   "cell_type": "markdown",
   "metadata": {},
   "source": [
    "Build and display the verified portfolio records."
   ]
  },
  {
   "cell_type": "code",
   "execution_count": null,
   "metadata": {
    "jupyter": {
     "source_hidden": true
    }
   },
   "outputs": [],
   "source": [
    "l_receipts = ds_strategy.get_commitment_receipts()\n",
    "html = \"<table>\"\n",
    "html += \"<tr><th>num</th><th>portfolio</th><th>portfolio_hash</th><th>tx</th></tr>\"\n",
    "# Populate the table with data.\n",
    "for i, record in enumerate(ds_strategy.records):\n",
    "    html += (\n",
    "        f\"<tr><td>{i}</td><td>{record.data}</td><td>{record.cid}</td>\"\n",
    "        f\"<td>{l_receipts[i]['transactionHash']}</td></tr>\"\n",
    "    )\n",
    "html += \"</table>\"\n",
    "# Check if the script is running in an interactive mode or a Jupyter notebook.\n",
    "if \"ipykernel\" not in sys.modules and \"IPython\" in sys.modules:\n",
    "    pprint.pprint(html)\n",
    "else:\n",
    "    # Load support for HTML display, if necessary.\n",
    "    from IPython.display import display, HTML\n",
    "\n",
    "    # Display the HTML table in the Jupyter notebook.\n",
    "    display(HTML(html))"
   ]
  },
  {
   "cell_type": "markdown",
   "metadata": {},
   "source": [
    "## Display Portfolio Analytics"
   ]
  },
  {
   "cell_type": "markdown",
   "metadata": {},
   "source": [
    "Convert strategy data to a Pandas DataFrame."
   ]
  },
  {
   "cell_type": "code",
   "execution_count": null,
   "metadata": {},
   "outputs": [],
   "source": [
    "df_strategy = ds_strategy.get_pd_data_frame()\n",
    "print(\"Strategy DataFrame:\\n\", df_strategy)"
   ]
  },
  {
   "cell_type": "markdown",
   "metadata": {},
   "source": [
    "Plot validated strategy return."
   ]
  },
  {
   "cell_type": "code",
   "execution_count": null,
   "metadata": {
    "jupyter": {
     "source_hidden": true
    }
   },
   "outputs": [],
   "source": [
    "random.seed(1)\n",
    "df_asset_returns = pd.DataFrame(\n",
    "    (np.random.random(size=df_strategy.shape) * 2 - 1) / 20,\n",
    "    index=df_strategy.index,\n",
    "    columns=df_strategy.columns,\n",
    ")\n",
    "df_strategy_returns = (df_strategy.shift(1) * df_asset_returns).sum(axis=1)\n",
    "print(\"\\nReturns DataFrame:\\n\", df_strategy_returns)\n",
    "(1 + df_strategy_returns).cumprod().fillna(1).plot()\n",
    "plt.show()"
   ]
  },
  {
   "cell_type": "markdown",
   "metadata": {},
   "source": [
    "## Summary"
   ]
  },
  {
   "cell_type": "markdown",
   "metadata": {},
   "source": [
    "\n",
    "Process<br>\n",
    "* We used only a link to the portfolio history, strategy name and owner.<br>\n",
    "* We validated data integrity and timestamps using public blockchain records.<br>\n",
    "* We converted the historical data to a Pandas DataFrame for easy analysis.<br>\n"
   ]
  },
  {
   "cell_type": "markdown",
   "metadata": {},
   "source": [
    "\n",
    "Key Implications<br>\n",
    "* The track record and all analytics can be independently calculated and verified forever.<br>\n",
    "* Data can be validated with a single line.<br>\n",
    "* vBase integrates smoothly with existing data science libraries and workflows.<br>\n"
   ]
  }
 ],
 "metadata": {
  "kernelspec": {
   "display_name": "Python 3 (ipykernel)",
   "language": "python",
   "name": "python3"
  },
  "language_info": {
   "codemirror_mode": {
    "name": "ipython",
    "version": 3
   },
   "file_extension": ".py",
   "mimetype": "text/x-python",
   "name": "python",
   "nbconvert_exporter": "python",
   "pygments_lexer": "ipython3",
   "version": "3.11.9"
  }
 },
 "nbformat": 4,
 "nbformat_minor": 4
}
