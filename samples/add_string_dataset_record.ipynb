{
 "cells": [
  {
   "cell_type": "markdown",
   "id": "5b1a080c-b5f8-4c45-be73-42a185c713fe",
   "metadata": {},
   "source": [
    "# add_string_dataset_record\n",
    "This sample creates a dataset comprising string records\n",
    "if one does not exist and adds a record to the dataset.\n",
    "\n",
    "The sample demonstrates the higher-order vBase dataset and string record abstractions\n",
    "that hide the details of object and record content id (CID) calculation (hashing).\n",
    "This example builds on the create_set.py code and omits redundant comments."
   ]
  },
  {
   "cell_type": "code",
   "execution_count": null,
   "id": "af308d49-2ffb-4458-a90b-bc32e9a68288",
   "metadata": {},
   "outputs": [],
   "source": [
    "%%capture\n",
    "\n",
    "# Initialization\n",
    "!pip install git+https://github.com/validityBase/vbase-py.git\n",
    "!wget --no-clobber https://raw.githubusercontent.com/validityBase/vbase-py-samples-collab/main/samples/collab_utils.py\n",
    "    \n",
    "import pprint\n",
    "\n",
    "from vbase import (\n",
    "    VBaseClient,\n",
    "    VBaseDataset,\n",
    "    VBaseStringObject,\n",
    ")\n",
    "\n",
    "from collab_utils import try_add_user_secrets_to_env\n",
    "\n",
    "\n",
    "# Initialize the environment using Google Collab secrets, if possible.\n",
    "try_add_user_secrets_to_env([\"FORWARDER_API_KEY\", \"FORWARDER_ENDPOINT_URL\", \"PRIVATE_KEY\"])"
   ]
  },
  {
   "cell_type": "code",
   "execution_count": null,
   "id": "3e884ed6-0244-405a-bf63-e46ab4712379",
   "metadata": {},
   "outputs": [],
   "source": [
    "# Name for the test set to create.\n",
    "SET_NAME = \"TestDataset\""
   ]
  },
  {
   "cell_type": "code",
   "execution_count": null,
   "id": "76aeac77-b3c1-4286-aafe-732d9b5fd538",
   "metadata": {},
   "outputs": [],
   "source": [
    "# Initialize vBase using environment variables.\n",
    "vbc = VBaseClient.create_instance_from_env()"
   ]
  },
  {
   "cell_type": "code",
   "execution_count": null,
   "id": "df80c214-e93f-41d5-a29d-7e8db1f88aaa",
   "metadata": {},
   "outputs": [],
   "source": [
    "# Create the dataset object, if necessary.\n",
    "ds = VBaseDataset(vbc, SET_NAME, VBaseStringObject)"
   ]
  },
  {
   "cell_type": "code",
   "execution_count": null,
   "id": "5058d4dd-8983-4053-a293-88386938f820",
   "metadata": {},
   "outputs": [],
   "source": [
    "# Add a record to the dataset.\n",
    "receipt = ds.add_record(\"TestRecord\")\n",
    "print(f\"add_record() receipt:\\n{pprint.pformat(receipt)}\")"
   ]
  },
  {
   "cell_type": "code",
   "execution_count": null,
   "id": "1a826aaf-f4bb-4e66-939e-58ef6d69028b",
   "metadata": {},
   "outputs": [],
   "source": [
    "# Validate the dataset commitments.\n",
    "assert ds.verify_commitments()"
   ]
  },
  {
   "cell_type": "code",
   "execution_count": null,
   "id": "34b287f3-8fa9-4c43-a201-8e7c4fa3179d",
   "metadata": {},
   "outputs": [],
   "source": []
  }
 ],
 "metadata": {
  "kernelspec": {
   "display_name": "Python 3 (ipykernel)",
   "language": "python",
   "name": "python3"
  },
  "language_info": {
   "codemirror_mode": {
    "name": "ipython",
    "version": 3
   },
   "file_extension": ".py",
   "mimetype": "text/x-python",
   "name": "python",
   "nbconvert_exporter": "python",
   "pygments_lexer": "ipython3",
   "version": "3.10.12"
  }
 },
 "nbformat": 4,
 "nbformat_minor": 5
}
