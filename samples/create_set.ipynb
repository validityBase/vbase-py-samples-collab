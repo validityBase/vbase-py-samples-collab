{
 "cells": [
  {
   "cell_type": "markdown",
   "metadata": {},
   "source": [
    "# create_set\n",
    "This sample creates and validates a vBase set."
   ]
  },
  {
   "cell_type": "code",
   "execution_count": null,
   "metadata": {},
   "outputs": [],
   "source": [
    "%%capture\n",
    "\n",
    "# Install vBase requirements.\n",
    "!pip install git+https://github.com/validityBase/vbase-py.git\n",
    "!wget --no-clobber https://raw.githubusercontent.com/validityBase/vbase-py-samples-collab/main/samples/collab_utils.py\n",
    "    \n",
    "import pprint\n",
    "\n",
    "from vbase import (\n",
    "    VBaseClient,\n",
    "    VBaseDataset,\n",
    "    VBaseStringObject,\n",
    ")\n",
    "\n",
    "from collab_utils import try_add_user_secrets_to_env\n",
    "\n",
    "\n",
    "# Initialize the environment using Google Collab secrets, if possible.\n",
    "try_add_user_secrets_to_env([\"VBASE_API_KEY\", \"VBASE_FORWARDER_URL\", \"VBASE_COMMITMENT_SERVICE_PRIVATE_KEY\"])"
   ]
  },
  {
   "cell_type": "code",
   "execution_count": null,
   "metadata": {},
   "outputs": [],
   "source": [
    "# Name for the test set to create.\n",
    "SET_NAME = \"TestDataset\""
   ]
  },
  {
   "cell_type": "code",
   "execution_count": null,
   "metadata": {},
   "outputs": [],
   "source": [
    "# Initialize vBase using environment variables.\n",
    "vbc = VBaseClient.create_instance_from_env()"
   ]
  },
  {
   "cell_type": "code",
   "execution_count": null,
   "metadata": {},
   "outputs": [],
   "source": [
    "# Create the set commitment.\n",
    "receipt = vbc.add_named_set(SET_NAME)\n",
    "print(f\"add_named_set() receipt:\\n{pprint.pformat(receipt)}\")"
   ]
  },
  {
   "cell_type": "code",
   "execution_count": null,
   "metadata": {},
   "outputs": [],
   "source": [
    "# Validate the set commitment.\n",
    "assert vbc.user_named_set_exists(vbc.get_default_user(), SET_NAME)"
   ]
  },
  {
   "cell_type": "code",
   "execution_count": null,
   "metadata": {},
   "outputs": [],
   "source": []
  }
 ],
 "metadata": {
  "kernelspec": {
   "display_name": "Python 3 (ipykernel)",
   "language": "python",
   "name": "python3"
  },
  "language_info": {
   "codemirror_mode": {
    "name": "ipython",
    "version": 3
   },
   "file_extension": ".py",
   "mimetype": "text/x-python",
   "name": "python",
   "nbconvert_exporter": "python",
   "pygments_lexer": "ipython3",
   "version": "3.8.18"
  }
 },
 "nbformat": 4,
 "nbformat_minor": 4
}
