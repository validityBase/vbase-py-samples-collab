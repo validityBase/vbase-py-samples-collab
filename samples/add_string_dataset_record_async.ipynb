{
 "cells": [
  {
   "cell_type": "markdown",
   "id": "5b1a080c-b5f8-4c45-be73-42a185c713fe",
   "metadata": {},
   "source": [
    "# add_string_dataset_record_async\n",
    "This sample creates a dataset comprising string records\n",
    "if one does not exist and adds a record to the dataset.\n",
    "The sample uses async methods to commit dataset and records\n",
    "and illustrates async operation using asyncio.\n",
    "\n",
    "The sample demonstrates the higher-order vBase dataset and string record abstractions\n",
    "that hide the details of object and record content id (CID) calculation (hashing).\n",
    "This example builds on the create_set.py code and omits redundant comments."
   ]
  },
  {
   "cell_type": "code",
   "execution_count": null,
   "id": "af308d49-2ffb-4458-a90b-bc32e9a68288",
   "metadata": {},
   "outputs": [],
   "source": [
    "%%capture\n",
    "\n",
    "# Initialization\n",
    "!pip install git+https://github.com/validityBase/vbase-py.git\n",
    "!wget --no-clobber https://raw.githubusercontent.com/validityBase/vbase-py-samples-collab/main/samples/collab_utils.py\n",
    "    \n",
    "import pprint\n",
    "\n",
    "from vbase import (\n",
    "    VBaseClient,\n",
    "    VBaseDataset,\n",
    "    VBaseStringObject,\n",
    ")\n",
    "\n",
    "from collab_utils import try_add_user_secrets_to_env\n",
    "\n",
    "\n",
    "# Initialize the environment using Google Collab secrets, if possible.\n",
    "try_add_user_secrets_to_env([\"VBASE_API_KEY\", \"VBASE_FORWARDER_URL\", \"VBASE_COMMITMENT_SERVICE_PRIVATE_KEY\"])"
   ]
  },
  {
   "cell_type": "code",
   "execution_count": null,
   "id": "3e884ed6-0244-405a-bf63-e46ab4712379",
   "metadata": {},
   "outputs": [],
   "source": [
    "# Name for the test set to create.\n",
    "SET_NAME = \"TestDataset\""
   ]
  },
  {
   "cell_type": "code",
   "execution_count": null,
   "id": "76aeac77-b3c1-4286-aafe-732d9b5fd538",
   "metadata": {},
   "outputs": [],
   "source": [
    "async def main():\n",
    "    \"\"\"\n",
    "    Create the dataset and add records asynchronously.\n",
    "    \"\"\"\n",
    "\n",
    "    # Initialize vBase using environment variables.\n",
    "    vbc = VBaseClient.create_instance_from_env()\n",
    "\n",
    "    # Create the dataset object, if necessary.\n",
    "    # Call the async VBaseDatasetAsync.create() factory method\n",
    "    # to start dataset creation.\n",
    "    start_time = time.time()\n",
    "    task = asyncio.create_task(\n",
    "        VBaseDatasetAsync.create(vbc, name=SET_NAME, record_type=VBaseStringObject)\n",
    "    )\n",
    "    elapsed_time = time.time() - start_time\n",
    "    print(f\"VBaseDatasetAsync.create(): create_task took {elapsed_time} seconds.\")\n",
    "    # Await for dataset creation.\n",
    "    start_time = time.time()\n",
    "    ds = await task\n",
    "    elapsed_time = time.time() - start_time\n",
    "    print(f\"VBaseDatasetAsync.create(): await took {elapsed_time} seconds.\")\n",
    "\n",
    "    # Add a record to the dataset.\n",
    "    # Call the async add_record_async() method\n",
    "    # to start record creation.\n",
    "    start_time = time.time()\n",
    "    task = asyncio.create_task(ds.add_record_async(\"TestRecord\"))\n",
    "    elapsed_time = time.time() - start_time\n",
    "    print(f\"ds.add_record_async(record_data) create_task took {elapsed_time} seconds.\")\n",
    "    # Await for record creation.\n",
    "    start_time = time.time()\n",
    "    receipt = await task\n",
    "    elapsed_time = time.time() - start_time\n",
    "    print(f\"ds.add_record_async(record_data) await took {elapsed_time} seconds.\")\n",
    "    print(f\"add_record_async() receipt:\\n{pprint.pformat(receipt)}\")\n",
    "\n",
    "    # Validate the dataset commitments.\n",
    "    assert ds.verify_commitments()"
   ]
  },
  {
   "cell_type": "code",
   "execution_count": null,
   "id": "df80c214-e93f-41d5-a29d-7e8db1f88aaa",
   "metadata": {},
   "outputs": [],
   "source": [
    "# asyncio.run() cannot be called from a running event loop\n",
    "# For a notebook, we are likely already running inside an event loop.\n",
    "# Get the current event loop.\n",
    "loop = asyncio.get_event_loop()\n",
    "\n",
    "# If the loop is running, schedule the coroutine to run in it.\n",
    "if loop.is_running():\n",
    "    future = asyncio.ensure_future(main())\n",
    "else:\n",
    "    loop.run_until_complete(main())"
   ]
  },
  {
   "cell_type": "code",
   "execution_count": null,
   "id": "34b287f3-8fa9-4c43-a201-8e7c4fa3179d",
   "metadata": {},
   "outputs": [],
   "source": []
  }
 ],
 "metadata": {
  "kernelspec": {
   "display_name": "Python 3 (ipykernel)",
   "language": "python",
   "name": "python3"
  },
  "language_info": {
   "codemirror_mode": {
    "name": "ipython",
    "version": 3
   },
   "file_extension": ".py",
   "mimetype": "text/x-python",
   "name": "python",
   "nbconvert_exporter": "python",
   "pygments_lexer": "ipython3",
   "version": "3.8.18"
  }
 },
 "nbformat": 4,
 "nbformat_minor": 5
}
